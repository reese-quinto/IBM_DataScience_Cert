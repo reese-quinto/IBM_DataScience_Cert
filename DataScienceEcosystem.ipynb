{
 "cells": [
  {
   "cell_type": "markdown",
   "id": "1bd6966d-2d94-4b6b-8c21-019a49a7af0d",
   "metadata": {},
   "source": [
    "# Data Science Tools and Ecosystem"
   ]
  },
  {
   "cell_type": "markdown",
   "id": "90183369-a825-4fa2-a1c0-23228821c229",
   "metadata": {},
   "source": [
    "This is the final assignment of Course 2: Tools for Data Science. In this notebook, Data Science Tools and Ecosystem are summarized."
   ]
  },
  {
   "cell_type": "markdown",
   "id": "c71c4417-e1ab-44c1-bb38-f0eef1bef05f",
   "metadata": {},
   "source": [
    "Some of the popular languages that Data Scientists use are:\n",
    "1. Python\n",
    "2. R\n",
    "3. Julia\n",
    "4. SQL\n",
    "5. Java"
   ]
  },
  {
   "cell_type": "markdown",
   "id": "e827af24-b478-4fc7-bc7b-e936fa3c4c70",
   "metadata": {},
   "source": [
    "Some of the commonly used libraries used by Data Scientists include:\n",
    "1. numpy\n",
    "2. pandas\n",
    "3. matplotlib\n",
    "4. tensorflow\n",
    "5. keras\n",
    "6. scikit-learn\n",
    "7. pytorch\n",
    "8. seaborn"
   ]
  },
  {
   "cell_type": "markdown",
   "id": "4b582a34-8bbf-4a7a-a75f-13be85ea320e",
   "metadata": {},
   "source": [
    "| Data Science Tools          |\n",
    "|-----------------------------|\n",
    "| Jupyter Notebook            |\n",
    "| RStudio                     |\n",
    "| Visual Studio Code (VS Code)|\n",
    "| Jupyter Lab                 |\n",
    "| Apache |\n"
   ]
  },
  {
   "cell_type": "markdown",
   "id": "3773bd3b-512f-4e3e-8e93-c725745572ce",
   "metadata": {},
   "source": [
    "### Below are a few examples of evaluating arithmetic expressions in Python."
   ]
  },
  {
   "cell_type": "code",
   "execution_count": 1,
   "id": "caf7969a-7803-45ad-bc41-7881d6660d1b",
   "metadata": {},
   "outputs": [
    {
     "data": {
      "text/plain": [
       "17"
      ]
     },
     "execution_count": 1,
     "metadata": {},
     "output_type": "execute_result"
    }
   ],
   "source": [
    "# This a simple arithmetic expression to mutiply then add integers.\n",
    "(3 * 4) + 5"
   ]
  },
  {
   "cell_type": "code",
   "execution_count": 2,
   "id": "4d22183a-ca35-4b66-93e5-e48a2d734abf",
   "metadata": {},
   "outputs": [
    {
     "name": "stdout",
     "output_type": "stream",
     "text": [
      "200 minutes = 3.3333333333333335 hours\n"
     ]
    }
   ],
   "source": [
    "# This will convert 200 minutes to hours by dividing by 60.\n",
    "t = 200 \n",
    "t2 = 200 / 60\n",
    "print(f\"{t} minutes = {t2} hours\")"
   ]
  },
  {
   "cell_type": "markdown",
   "id": "30f6022c-ba03-4866-bafe-9b1938ea024a",
   "metadata": {},
   "source": [
    "Objectives:\n",
    "- Make a H1 heading\n",
    "- List some of the popular lanuages that Data Scientists use\n",
    "- List some of the common libraries used by Data Scientists\n",
    "- Make a table of some common Data Science tools\n",
    "- Use code to multiply and add numbers"
   ]
  },
  {
   "cell_type": "markdown",
   "id": "f45ed874-efd0-4f8c-bdc5-6a9e3e83739d",
   "metadata": {},
   "source": [
    "## Author\n",
    "Reese Quinto"
   ]
  },
  {
   "cell_type": "code",
   "execution_count": null,
   "id": "8014cb8e-6ed2-4fd1-9f38-12875a095380",
   "metadata": {},
   "outputs": [],
   "source": []
  }
 ],
 "metadata": {
  "kernelspec": {
   "display_name": "Python 3 (ipykernel)",
   "language": "python",
   "name": "python3"
  },
  "language_info": {
   "codemirror_mode": {
    "name": "ipython",
    "version": 3
   },
   "file_extension": ".py",
   "mimetype": "text/x-python",
   "name": "python",
   "nbconvert_exporter": "python",
   "pygments_lexer": "ipython3",
   "version": "3.10.12"
  }
 },
 "nbformat": 4,
 "nbformat_minor": 5
}
